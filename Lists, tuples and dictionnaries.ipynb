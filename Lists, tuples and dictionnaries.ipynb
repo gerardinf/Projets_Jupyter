{
 "cells": [
  {
   "cell_type": "markdown",
   "id": "7bf986e1",
   "metadata": {},
   "source": [
    "# Let's continue with python 3"
   ]
  },
  {
   "cell_type": "markdown",
   "id": "9697dd10",
   "metadata": {},
   "source": [
    "## Lists"
   ]
  },
  {
   "cell_type": "code",
   "execution_count": 42,
   "id": "f25c94cc",
   "metadata": {},
   "outputs": [
    {
     "data": {
      "text/plain": [
       "[1, 4, 8, 9, 100]"
      ]
     },
     "execution_count": 42,
     "metadata": {},
     "output_type": "execute_result"
    }
   ],
   "source": [
    "# Definition\n",
    "li = [1,4,8,9,100]\n",
    "li"
   ]
  },
  {
   "cell_type": "code",
   "execution_count": 43,
   "id": "8a39f506",
   "metadata": {},
   "outputs": [
    {
     "data": {
      "text/plain": [
       "list"
      ]
     },
     "execution_count": 43,
     "metadata": {},
     "output_type": "execute_result"
    }
   ],
   "source": [
    "type(li)"
   ]
  },
  {
   "cell_type": "code",
   "execution_count": 44,
   "id": "c68e990d",
   "metadata": {},
   "outputs": [
    {
     "data": {
      "text/plain": [
       "1"
      ]
     },
     "execution_count": 44,
     "metadata": {},
     "output_type": "execute_result"
    }
   ],
   "source": [
    "# Returns the first element of the list\n",
    "li[0]"
   ]
  },
  {
   "cell_type": "code",
   "execution_count": 45,
   "id": "a370419a",
   "metadata": {},
   "outputs": [
    {
     "data": {
      "text/plain": [
       "100"
      ]
     },
     "execution_count": 45,
     "metadata": {},
     "output_type": "execute_result"
    }
   ],
   "source": [
    "# Returns the last element of the list\n",
    "li[-1]"
   ]
  },
  {
   "cell_type": "code",
   "execution_count": 46,
   "id": "2e7de42d",
   "metadata": {},
   "outputs": [
    {
     "data": {
      "text/plain": [
       "5"
      ]
     },
     "execution_count": 46,
     "metadata": {},
     "output_type": "execute_result"
    }
   ],
   "source": [
    "len(li)"
   ]
  },
  {
   "cell_type": "code",
   "execution_count": 47,
   "id": "d4cae08c",
   "metadata": {},
   "outputs": [],
   "source": [
    "# Copy of li in li2\n",
    "li2 = li\n",
    "li2[0] = 400"
   ]
  },
  {
   "cell_type": "code",
   "execution_count": 48,
   "id": "c0f44e11",
   "metadata": {},
   "outputs": [
    {
     "data": {
      "text/plain": [
       "[400, 4, 8, 9, 100]"
      ]
     },
     "execution_count": 48,
     "metadata": {},
     "output_type": "execute_result"
    }
   ],
   "source": [
    "li2"
   ]
  },
  {
   "cell_type": "code",
   "execution_count": 49,
   "id": "53c3a307",
   "metadata": {},
   "outputs": [
    {
     "data": {
      "text/plain": [
       "[400, 4, 8, 9, 100]"
      ]
     },
     "execution_count": 49,
     "metadata": {},
     "output_type": "execute_result"
    }
   ],
   "source": [
    "# But li[0] is modified...\n",
    "li"
   ]
  },
  {
   "cell_type": "code",
   "execution_count": 50,
   "id": "5631f534",
   "metadata": {},
   "outputs": [],
   "source": [
    "# Copy of li in li2\n",
    "li = [1,4,8,9,100]\n",
    "li2 = li[:]\n",
    "li2[0] = 401"
   ]
  },
  {
   "cell_type": "code",
   "execution_count": 51,
   "id": "7e3b10f8",
   "metadata": {},
   "outputs": [
    {
     "data": {
      "text/plain": [
       "[401, 4, 8, 9, 100]"
      ]
     },
     "execution_count": 51,
     "metadata": {},
     "output_type": "execute_result"
    }
   ],
   "source": [
    "li2"
   ]
  },
  {
   "cell_type": "code",
   "execution_count": 52,
   "id": "053c6b7c",
   "metadata": {},
   "outputs": [
    {
     "data": {
      "text/plain": [
       "[1, 4, 8, 9, 100]"
      ]
     },
     "execution_count": 52,
     "metadata": {},
     "output_type": "execute_result"
    }
   ],
   "source": [
    "# Li isn't modified\n",
    "li"
   ]
  },
  {
   "cell_type": "code",
   "execution_count": 57,
   "id": "bd1e21af",
   "metadata": {},
   "outputs": [
    {
     "name": "stdout",
     "output_type": "stream",
     "text": [
      "0 1\n",
      "1 4\n",
      "2 8\n",
      "3 9\n",
      "4 100\n"
     ]
    }
   ],
   "source": [
    "for index, elem in enumerate(li):\n",
    "    print(index, elem)"
   ]
  },
  {
   "cell_type": "code",
   "execution_count": 53,
   "id": "031c88f5",
   "metadata": {},
   "outputs": [
    {
     "name": "stdout",
     "output_type": "stream",
     "text": [
      "1\n",
      "4\n",
      "8\n",
      "9\n",
      "100\n"
     ]
    }
   ],
   "source": [
    "for elem in li:\n",
    "    print(elem)"
   ]
  },
  {
   "cell_type": "code",
   "execution_count": 56,
   "id": "341181cc",
   "metadata": {},
   "outputs": [
    {
     "name": "stdout",
     "output_type": "stream",
     "text": [
      "1 401\n",
      "4 4\n",
      "8 8\n",
      "9 9\n",
      "100 100\n"
     ]
    }
   ],
   "source": [
    "for elem1, elem2 in zip(li, li2):\n",
    "    print(elem1, elem2)"
   ]
  },
  {
   "cell_type": "code",
   "execution_count": 55,
   "id": "e52d90e0",
   "metadata": {},
   "outputs": [
    {
     "data": {
      "text/plain": [
       "[1, 8, 100]"
      ]
     },
     "execution_count": 55,
     "metadata": {},
     "output_type": "execute_result"
    }
   ],
   "source": [
    "li[::2]"
   ]
  },
  {
   "cell_type": "code",
   "execution_count": 14,
   "id": "5504bec1",
   "metadata": {},
   "outputs": [
    {
     "data": {
      "text/plain": [
       "[1, 4]"
      ]
     },
     "execution_count": 14,
     "metadata": {},
     "output_type": "execute_result"
    }
   ],
   "source": [
    "li[0:2]"
   ]
  },
  {
   "cell_type": "markdown",
   "id": "fc6324fc",
   "metadata": {},
   "source": [
    "## Tuples"
   ]
  },
  {
   "cell_type": "code",
   "execution_count": 16,
   "id": "15479973",
   "metadata": {},
   "outputs": [
    {
     "data": {
      "text/plain": [
       "(1, 2, 6, 90, 3)"
      ]
     },
     "execution_count": 16,
     "metadata": {},
     "output_type": "execute_result"
    }
   ],
   "source": [
    "tu = (1, 2,6,90,3)\n",
    "tu"
   ]
  },
  {
   "cell_type": "code",
   "execution_count": 17,
   "id": "5fd646c7",
   "metadata": {},
   "outputs": [
    {
     "data": {
      "text/plain": [
       "tuple"
      ]
     },
     "execution_count": 17,
     "metadata": {},
     "output_type": "execute_result"
    }
   ],
   "source": [
    "type(tu)"
   ]
  },
  {
   "cell_type": "code",
   "execution_count": 21,
   "id": "f486b1f0",
   "metadata": {},
   "outputs": [
    {
     "data": {
      "text/plain": [
       "1"
      ]
     },
     "execution_count": 21,
     "metadata": {},
     "output_type": "execute_result"
    }
   ],
   "source": [
    "# Returns the first element\n",
    "tu[0]"
   ]
  },
  {
   "cell_type": "code",
   "execution_count": 22,
   "id": "2db972c4",
   "metadata": {},
   "outputs": [
    {
     "ename": "TypeError",
     "evalue": "'tuple' object does not support item assignment",
     "output_type": "error",
     "traceback": [
      "\u001b[1;31m---------------------------------------------------------------------------\u001b[0m",
      "\u001b[1;31mTypeError\u001b[0m                                 Traceback (most recent call last)",
      "\u001b[1;32m~\\AppData\\Local\\Temp\\ipykernel_32208\\61045863.py\u001b[0m in \u001b[0;36m<module>\u001b[1;34m\u001b[0m\n\u001b[0;32m      1\u001b[0m \u001b[1;31m#Tuples are not mutable\u001b[0m\u001b[1;33m\u001b[0m\u001b[1;33m\u001b[0m\u001b[0m\n\u001b[1;32m----> 2\u001b[1;33m \u001b[0mtu\u001b[0m\u001b[1;33m[\u001b[0m\u001b[1;36m0\u001b[0m\u001b[1;33m]\u001b[0m \u001b[1;33m=\u001b[0m \u001b[1;36m23\u001b[0m\u001b[1;33m\u001b[0m\u001b[1;33m\u001b[0m\u001b[0m\n\u001b[0m",
      "\u001b[1;31mTypeError\u001b[0m: 'tuple' object does not support item assignment"
     ]
    }
   ],
   "source": [
    "#Tuples are not mutable\n",
    "tu[0] = 23"
   ]
  },
  {
   "cell_type": "markdown",
   "id": "b0317711",
   "metadata": {},
   "source": [
    "## Dictionnaires"
   ]
  },
  {
   "cell_type": "code",
   "execution_count": 58,
   "id": "c505d796",
   "metadata": {},
   "outputs": [],
   "source": [
    "# Defining an empty dictionnary\n",
    "dico = {}\n",
    "# Or\n",
    "dico2 = dict()"
   ]
  },
  {
   "cell_type": "code",
   "execution_count": 61,
   "id": "cb191e6f",
   "metadata": {},
   "outputs": [],
   "source": [
    "dico[3] = 12\n",
    "dico['banana'] = 134//12\n",
    "dico[1.23] = 'Hello'"
   ]
  },
  {
   "cell_type": "code",
   "execution_count": 62,
   "id": "1de4a94f",
   "metadata": {},
   "outputs": [
    {
     "data": {
      "text/plain": [
       "{3: 12, 'banana': 11, 1.23: 'Hello'}"
      ]
     },
     "execution_count": 62,
     "metadata": {},
     "output_type": "execute_result"
    }
   ],
   "source": [
    "dico"
   ]
  },
  {
   "cell_type": "code",
   "execution_count": 25,
   "id": "2f97cc9a",
   "metadata": {},
   "outputs": [],
   "source": [
    "surfaces = {'France': 544000,\n",
    "        'Russia':17075000,\n",
    "        'Vatican':0.44    \n",
    "}"
   ]
  },
  {
   "cell_type": "code",
   "execution_count": 27,
   "id": "4efcd9c0",
   "metadata": {},
   "outputs": [
    {
     "data": {
      "text/plain": [
       "['France', 'Russia', 'Vatican']"
      ]
     },
     "execution_count": 27,
     "metadata": {},
     "output_type": "execute_result"
    }
   ],
   "source": [
    "list(surfaces.keys())"
   ]
  },
  {
   "cell_type": "code",
   "execution_count": 31,
   "id": "94e7cd22",
   "metadata": {},
   "outputs": [
    {
     "data": {
      "text/plain": [
       "[544000, 17075000, 0.44]"
      ]
     },
     "execution_count": 31,
     "metadata": {},
     "output_type": "execute_result"
    }
   ],
   "source": [
    "list(surfaces.values())"
   ]
  },
  {
   "cell_type": "code",
   "execution_count": 32,
   "id": "f5418e86",
   "metadata": {},
   "outputs": [
    {
     "name": "stdout",
     "output_type": "stream",
     "text": [
      "France 544000\n",
      "Russia 17075000\n",
      "Vatican 0.44\n"
     ]
    }
   ],
   "source": [
    "for key, value in superficies.items():\n",
    "    print(key, value)"
   ]
  },
  {
   "cell_type": "code",
   "execution_count": 34,
   "id": "1c3b21cc",
   "metadata": {},
   "outputs": [],
   "source": [
    "surfaces['USA'] = 9834000"
   ]
  },
  {
   "cell_type": "code",
   "execution_count": 35,
   "id": "523d9b4b",
   "metadata": {},
   "outputs": [
    {
     "data": {
      "text/plain": [
       "{'France': 544000, 'Russia': 17075000, 'Vatican': 0.44, 'USA': 9834000}"
      ]
     },
     "execution_count": 35,
     "metadata": {},
     "output_type": "execute_result"
    }
   ],
   "source": [
    "surfaces"
   ]
  },
  {
   "cell_type": "code",
   "execution_count": 36,
   "id": "707d40d6",
   "metadata": {},
   "outputs": [
    {
     "data": {
      "text/plain": [
       "544000"
      ]
     },
     "execution_count": 36,
     "metadata": {},
     "output_type": "execute_result"
    }
   ],
   "source": [
    "superficies.get('France')"
   ]
  },
  {
   "cell_type": "code",
   "execution_count": 40,
   "id": "2ed39f13",
   "metadata": {},
   "outputs": [
    {
     "data": {
      "text/plain": [
       "'Not in dictionnary'"
      ]
     },
     "execution_count": 40,
     "metadata": {},
     "output_type": "execute_result"
    }
   ],
   "source": [
    "# Returns 'Not in dictionary' if the key isn't in the dictionary\n",
    "superficies.get('Germany','Not in dictionnary')"
   ]
  },
  {
   "cell_type": "code",
   "execution_count": null,
   "id": "7be26b18",
   "metadata": {},
   "outputs": [],
   "source": []
  }
 ],
 "metadata": {
  "kernelspec": {
   "display_name": "Python 3 (ipykernel)",
   "language": "python",
   "name": "python3"
  },
  "language_info": {
   "codemirror_mode": {
    "name": "ipython",
    "version": 3
   },
   "file_extension": ".py",
   "mimetype": "text/x-python",
   "name": "python",
   "nbconvert_exporter": "python",
   "pygments_lexer": "ipython3",
   "version": "3.9.13"
  }
 },
 "nbformat": 4,
 "nbformat_minor": 5
}
