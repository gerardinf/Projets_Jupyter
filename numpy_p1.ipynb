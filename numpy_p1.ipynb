{
 "cells": [
  {
   "cell_type": "code",
   "execution_count": 1,
   "id": "1a5fc1cc-3c94-4320-8e8f-09d6275bd0fb",
   "metadata": {},
   "outputs": [],
   "source": [
    "import numpy as np"
   ]
  },
  {
   "cell_type": "markdown",
   "id": "8e65258a-feb2-4277-8e21-25f466ce7098",
   "metadata": {},
   "source": [
    "### Créer un tableau à partir d'une liste"
   ]
  },
  {
   "cell_type": "code",
   "execution_count": 67,
   "id": "a608c28d-aa09-4a56-9830-1624e681e3fa",
   "metadata": {},
   "outputs": [],
   "source": [
    "liste = [6, 4, 7, 9, 32]\n",
    "tableau =np.array(liste)"
   ]
  },
  {
   "cell_type": "code",
   "execution_count": 68,
   "id": "015d767a-7fb7-4e12-a503-dc09c773b3b3",
   "metadata": {},
   "outputs": [
    {
     "data": {
      "text/plain": [
       "array([ 6,  4,  7,  9, 32])"
      ]
     },
     "execution_count": 68,
     "metadata": {},
     "output_type": "execute_result"
    }
   ],
   "source": [
    "tableau"
   ]
  },
  {
   "cell_type": "code",
   "execution_count": 9,
   "id": "97f2d063-13d6-4690-a421-d522b35165c1",
   "metadata": {},
   "outputs": [],
   "source": [
    "## en 2 dimensions\n",
    "tab2d = np.array((liste,liste))"
   ]
  },
  {
   "cell_type": "code",
   "execution_count": 10,
   "id": "14b23afa-6388-4ecd-b077-d7ea77161c20",
   "metadata": {},
   "outputs": [
    {
     "data": {
      "text/plain": [
       "array([[1, 4, 7, 9, 0],\n",
       "       [1, 4, 7, 9, 0]])"
      ]
     },
     "execution_count": 10,
     "metadata": {},
     "output_type": "execute_result"
    }
   ],
   "source": [
    "tab2d"
   ]
  },
  {
   "cell_type": "markdown",
   "id": "ce13917e-7a2a-4ca6-a751-9025bc0f2a22",
   "metadata": {},
   "source": [
    "### Créer un tableau à partir de rien"
   ]
  },
  {
   "cell_type": "code",
   "execution_count": 13,
   "id": "736c6037-b2e3-4c3f-9b11-1ef4741fbba1",
   "metadata": {},
   "outputs": [],
   "source": [
    "# tableau de zéros\n",
    "tab_0 = np.zeros(4,dtype=float)"
   ]
  },
  {
   "cell_type": "code",
   "execution_count": 14,
   "id": "74b4be25-91b5-4a06-a6bd-7e90e3099b19",
   "metadata": {},
   "outputs": [
    {
     "data": {
      "text/plain": [
       "array([0., 0., 0., 0.])"
      ]
     },
     "execution_count": 14,
     "metadata": {},
     "output_type": "execute_result"
    }
   ],
   "source": [
    "tab_0"
   ]
  },
  {
   "cell_type": "code",
   "execution_count": 15,
   "id": "eabef517-be7a-47ff-9c01-4a277a6338de",
   "metadata": {},
   "outputs": [],
   "source": [
    "# tableau de 1\n",
    "tab_1 = np.ones((3,3), dtype=int)"
   ]
  },
  {
   "cell_type": "code",
   "execution_count": 16,
   "id": "4f802bab-5556-426b-9ef5-626ae6c33f24",
   "metadata": {},
   "outputs": [
    {
     "data": {
      "text/plain": [
       "array([[1, 1, 1],\n",
       "       [1, 1, 1],\n",
       "       [1, 1, 1]])"
      ]
     },
     "execution_count": 16,
     "metadata": {},
     "output_type": "execute_result"
    }
   ],
   "source": [
    "tab_1"
   ]
  },
  {
   "cell_type": "code",
   "execution_count": 17,
   "id": "1e3fd51d-4710-43b7-b7f8-f8e61793d541",
   "metadata": {},
   "outputs": [],
   "source": [
    "# tableau avec la même valeur : exp(1)\n",
    "tab_e = np.full((2,4), np.e)"
   ]
  },
  {
   "cell_type": "code",
   "execution_count": 20,
   "id": "851cf998-d473-41ed-9954-6c67420b4907",
   "metadata": {},
   "outputs": [],
   "source": [
    "## tableau de 0 à 20 exclus par pas de 2\n",
    "tab_range = np.arange(0,20,2)"
   ]
  },
  {
   "cell_type": "code",
   "execution_count": 21,
   "id": "faf3cd51-95ed-4a9f-8642-530e11c2ed2d",
   "metadata": {},
   "outputs": [
    {
     "data": {
      "text/plain": [
       "array([ 0,  2,  4,  6,  8, 10, 12, 14, 16, 18])"
      ]
     },
     "execution_count": 21,
     "metadata": {},
     "output_type": "execute_result"
    }
   ],
   "source": [
    "tab_range"
   ]
  },
  {
   "cell_type": "code",
   "execution_count": 59,
   "id": "d3a4ab71-43d1-4678-a157-b726906430b4",
   "metadata": {},
   "outputs": [],
   "source": [
    "## tableau de 0 à 10 avec 20 éléments\n",
    "tab_space = np.linspace(0, 10, 20)"
   ]
  },
  {
   "cell_type": "code",
   "execution_count": 60,
   "id": "f9c68a81-c3bd-4dc7-91dc-224540b849b1",
   "metadata": {},
   "outputs": [
    {
     "data": {
      "text/plain": [
       "array([ 0.        ,  0.52631579,  1.05263158,  1.57894737,  2.10526316,\n",
       "        2.63157895,  3.15789474,  3.68421053,  4.21052632,  4.73684211,\n",
       "        5.26315789,  5.78947368,  6.31578947,  6.84210526,  7.36842105,\n",
       "        7.89473684,  8.42105263,  8.94736842,  9.47368421, 10.        ])"
      ]
     },
     "execution_count": 60,
     "metadata": {},
     "output_type": "execute_result"
    }
   ],
   "source": [
    "tab_space"
   ]
  },
  {
   "cell_type": "code",
   "execution_count": 41,
   "id": "5d18e381-0334-4d9c-ac8d-8d003e5b6aab",
   "metadata": {},
   "outputs": [],
   "source": [
    "## avec des nombre aléatoires\n",
    "## tableau 2x7 avec des nombres aléatoires entre 0 et 1\n",
    "tab_rand = np.random.random((2,7))\n",
    "## tableau 2x2 avec des valeurs suivant une loi normale\n",
    "tab_normal = np.random.normal(0, 1, (2,2))\n",
    "## tableau avec 10 entiers aléatoires de 0 à 20\n",
    "tab_int = np.random.randint(0,20, 10)"
   ]
  },
  {
   "cell_type": "code",
   "execution_count": 42,
   "id": "a7a3a57d-0bd8-4c7f-ad49-a300d0ef08f3",
   "metadata": {},
   "outputs": [
    {
     "data": {
      "text/plain": [
       "array([[0.0274261 , 0.54654617, 0.89110598, 0.75476147, 0.15101881,\n",
       "        0.5958476 , 0.48941499],\n",
       "       [0.38017053, 0.1416914 , 0.28389687, 0.18184266, 0.03831264,\n",
       "        0.40615664, 0.90228019]])"
      ]
     },
     "execution_count": 42,
     "metadata": {},
     "output_type": "execute_result"
    }
   ],
   "source": [
    "tab_rand"
   ]
  },
  {
   "cell_type": "code",
   "execution_count": 43,
   "id": "accb9ec3-78e4-4228-a088-26b5bbccf68c",
   "metadata": {},
   "outputs": [
    {
     "data": {
      "text/plain": [
       "array([[-0.35140252,  0.35869248],\n",
       "       [ 0.61076911,  0.89981278]])"
      ]
     },
     "execution_count": 43,
     "metadata": {},
     "output_type": "execute_result"
    }
   ],
   "source": [
    "tab_normal"
   ]
  },
  {
   "cell_type": "code",
   "execution_count": 44,
   "id": "cbee0774-a104-448d-ba17-4608983bc431",
   "metadata": {},
   "outputs": [
    {
     "data": {
      "text/plain": [
       "array([18, 11, 14,  4, 10,  1, 15,  0, 13,  1])"
      ]
     },
     "execution_count": 44,
     "metadata": {},
     "output_type": "execute_result"
    }
   ],
   "source": [
    "tab_int"
   ]
  },
  {
   "cell_type": "code",
   "execution_count": 48,
   "id": "da313fcc-6737-47ee-a355-0533e8795dea",
   "metadata": {},
   "outputs": [],
   "source": [
    "# matrice identité\n",
    "mat_ind = np.eye(3, dtype=np.float32)"
   ]
  },
  {
   "cell_type": "code",
   "execution_count": 49,
   "id": "f75306ff-0302-4b06-9b9f-f3b7d3dceea2",
   "metadata": {},
   "outputs": [
    {
     "data": {
      "text/plain": [
       "array([[1., 0., 0.],\n",
       "       [0., 1., 0.],\n",
       "       [0., 0., 1.]], dtype=float32)"
      ]
     },
     "execution_count": 49,
     "metadata": {},
     "output_type": "execute_result"
    }
   ],
   "source": [
    "mat_ind"
   ]
  },
  {
   "cell_type": "markdown",
   "id": "293eee9c-d42b-4675-b4d2-080323bab5c7",
   "metadata": {},
   "source": [
    "### Attributs des tableaux numpy"
   ]
  },
  {
   "cell_type": "code",
   "execution_count": 50,
   "id": "0abb1b9b-90d1-4c07-af83-18bf5241aede",
   "metadata": {},
   "outputs": [],
   "source": [
    "tab = np.random.randint(0, 10, (3,2))"
   ]
  },
  {
   "cell_type": "code",
   "execution_count": 51,
   "id": "135c4a8c-bb38-4395-95b0-b8df25d71d80",
   "metadata": {},
   "outputs": [
    {
     "data": {
      "text/plain": [
       "array([[6, 2],\n",
       "       [9, 5],\n",
       "       [0, 4]])"
      ]
     },
     "execution_count": 51,
     "metadata": {},
     "output_type": "execute_result"
    }
   ],
   "source": [
    "tab"
   ]
  },
  {
   "cell_type": "code",
   "execution_count": 56,
   "id": "80e73a67-15fe-4eec-b972-bfd9845f0f93",
   "metadata": {},
   "outputs": [
    {
     "name": "stdout",
     "output_type": "stream",
     "text": [
      "dimension : 2\n",
      "taille de chaque dimension : (3, 2)\n",
      "nombre d'éléments : 6\n"
     ]
    }
   ],
   "source": [
    "print('dimension :', tab.ndim)\n",
    "print('taille de chaque dimension :', tab.shape)\n",
    "print('nombre d\\'éléments :', tab.size)"
   ]
  },
  {
   "cell_type": "code",
   "execution_count": 58,
   "id": "ce92c363-fa06-430a-81b3-e8f49602fed7",
   "metadata": {},
   "outputs": [
    {
     "name": "stdout",
     "output_type": "stream",
     "text": [
      "nature des éléments du tableau : int64\n"
     ]
    }
   ],
   "source": [
    "print('nature des éléments du tableau :',tab.dtype)"
   ]
  },
  {
   "cell_type": "markdown",
   "id": "5cfe7e60-73fd-45cd-af61-decb17245da3",
   "metadata": {},
   "source": [
    "#### Indexing"
   ]
  },
  {
   "cell_type": "code",
   "execution_count": 69,
   "id": "0f233d6e-0da1-42fa-995e-a4dd716f0f9a",
   "metadata": {},
   "outputs": [
    {
     "name": "stdout",
     "output_type": "stream",
     "text": [
      "1er élément du tableau : 6\n",
      "Dernier élément du tableau : 32\n"
     ]
    }
   ],
   "source": [
    "print('1er élément du tableau :',tableau[0])\n",
    "print('Dernier élément du tableau :',tableau[-1])"
   ]
  },
  {
   "cell_type": "code",
   "execution_count": 73,
   "id": "c849bca7-d460-48f5-b75e-43bbc52ee481",
   "metadata": {},
   "outputs": [
    {
     "data": {
      "text/plain": [
       "7"
      ]
     },
     "execution_count": 73,
     "metadata": {},
     "output_type": "execute_result"
    }
   ],
   "source": [
    "tab2d[0,2]"
   ]
  },
  {
   "cell_type": "code",
   "execution_count": 71,
   "id": "8e3fe258-0b64-477b-8143-60a0204e4d4f",
   "metadata": {},
   "outputs": [
    {
     "name": "stdout",
     "output_type": "stream",
     "text": [
      "1er élément du tableau : 1\n"
     ]
    }
   ],
   "source": [
    "print('1er élément du tableau :',tab2d[0][0])"
   ]
  },
  {
   "cell_type": "code",
   "execution_count": 76,
   "id": "147a56af-5435-4e97-bb24-9854b7d2ffaa",
   "metadata": {},
   "outputs": [
    {
     "name": "stdout",
     "output_type": "stream",
     "text": [
      "[[   1    4 1515    9    0]\n",
      " [   1    4    7    9    0]]\n"
     ]
    }
   ],
   "source": [
    "## Modification d'un élément du tableau\n",
    "tab2d[0,2] = 1515\n",
    "print(tab2d)"
   ]
  },
  {
   "cell_type": "code",
   "execution_count": 79,
   "id": "e61a7f71-5582-4bc9-a313-13667fa1a674",
   "metadata": {
    "tags": []
   },
   "outputs": [
    {
     "data": {
      "text/plain": [
       "array([ 0,  2,  4,  6,  8, 10, 12, 14, 16, 18])"
      ]
     },
     "execution_count": 79,
     "metadata": {},
     "output_type": "execute_result"
    }
   ],
   "source": [
    "tab_range"
   ]
  },
  {
   "cell_type": "markdown",
   "id": "abfac003-c9fd-40be-a075-211272866f67",
   "metadata": {},
   "source": [
    "#### Slicing"
   ]
  },
  {
   "cell_type": "code",
   "execution_count": 78,
   "id": "43025e54-f9c3-40a6-8e19-c74ba3221cab",
   "metadata": {},
   "outputs": [
    {
     "data": {
      "text/plain": [
       "array([ 0,  4,  8, 12, 16])"
      ]
     },
     "execution_count": 78,
     "metadata": {},
     "output_type": "execute_result"
    }
   ],
   "source": [
    "## Sélection des éléments de tab_range du début à la fin par pas de 2\n",
    "tab_range[0:-1:2]\n"
   ]
  },
  {
   "cell_type": "code",
   "execution_count": 81,
   "id": "ffa26cfe-3239-46d1-a913-1d6690108628",
   "metadata": {},
   "outputs": [
    {
     "data": {
      "text/plain": [
       "array([ 4,  6,  8, 10, 12, 14, 16, 18])"
      ]
     },
     "execution_count": 81,
     "metadata": {},
     "output_type": "execute_result"
    }
   ],
   "source": [
    "## Sélection des éléments de tab_range à partir du 3ème jusqu à la fin\n",
    "tab_range[2:]"
   ]
  },
  {
   "cell_type": "code",
   "execution_count": 82,
   "id": "67f81699-32e3-48f1-bcda-e557fc2d358c",
   "metadata": {},
   "outputs": [
    {
     "data": {
      "text/plain": [
       "array([18, 12,  6,  0])"
      ]
     },
     "execution_count": 82,
     "metadata": {},
     "output_type": "execute_result"
    }
   ],
   "source": [
    "## Sélection des éléments de tab_range à partir du dernier par pas de 3 en sens inverse\n",
    "tab_range[::-3]"
   ]
  },
  {
   "cell_type": "code",
   "execution_count": 91,
   "id": "435dd12a-d670-4e4f-9c37-5339a1ea0606",
   "metadata": {},
   "outputs": [],
   "source": [
    "mat_33 = np.random.random((3,3))"
   ]
  },
  {
   "cell_type": "code",
   "execution_count": 92,
   "id": "203874ce-4328-4edf-8ecb-abb0df85d4a3",
   "metadata": {},
   "outputs": [
    {
     "data": {
      "text/plain": [
       "array([[0.57955045, 0.09955669, 0.39156947],\n",
       "       [0.22800431, 0.00750783, 0.27688253],\n",
       "       [0.30604464, 0.3016332 , 0.99273736]])"
      ]
     },
     "execution_count": 92,
     "metadata": {},
     "output_type": "execute_result"
    }
   ],
   "source": [
    "mat_33"
   ]
  },
  {
   "cell_type": "code",
   "execution_count": 94,
   "id": "d6d239d3-9357-4a19-a736-e293607d2d9b",
   "metadata": {},
   "outputs": [
    {
     "data": {
      "text/plain": [
       "array([0.57955045, 0.22800431, 0.30604464])"
      ]
     },
     "execution_count": 94,
     "metadata": {},
     "output_type": "execute_result"
    }
   ],
   "source": [
    "# 1ère colonne\n",
    "mat_33[:,0]"
   ]
  },
  {
   "cell_type": "code",
   "execution_count": 95,
   "id": "4186b23c-855f-489c-94fa-ed4bb076094d",
   "metadata": {},
   "outputs": [
    {
     "data": {
      "text/plain": [
       "array([0.30604464, 0.3016332 , 0.99273736])"
      ]
     },
     "execution_count": 95,
     "metadata": {},
     "output_type": "execute_result"
    }
   ],
   "source": [
    "# 3ème ligne\n",
    "mat_33[2,:]"
   ]
  },
  {
   "cell_type": "code",
   "execution_count": 103,
   "id": "daecd5ba-4abe-43fe-8557-23b89e67d752",
   "metadata": {},
   "outputs": [
    {
     "data": {
      "text/plain": [
       "array([[0.57955045, 0.09955669, 0.39156947],\n",
       "       [0.22800431, 0.00750783, 0.27688253]])"
      ]
     },
     "execution_count": 103,
     "metadata": {},
     "output_type": "execute_result"
    }
   ],
   "source": [
    "## 2 premières lignes et toutes les colonnes\n",
    "mat_33[:2,:]"
   ]
  },
  {
   "cell_type": "markdown",
   "id": "b7f22f2e-8474-46b9-aca7-09a90f6175d2",
   "metadata": {},
   "source": [
    "#### Copier un tableau"
   ]
  },
  {
   "cell_type": "code",
   "execution_count": 117,
   "id": "2afc880a-953c-46ac-90fe-06a083f1c163",
   "metadata": {},
   "outputs": [],
   "source": [
    "tab1 = np.random.uniform(0,3,10)"
   ]
  },
  {
   "cell_type": "code",
   "execution_count": 118,
   "id": "2c9f83d8-80b3-45a1-a710-965a054e27cb",
   "metadata": {},
   "outputs": [
    {
     "data": {
      "text/plain": [
       "array([2.80485792, 0.97243768, 0.13996451, 0.58753426, 2.05270576,\n",
       "       1.86438369, 2.24695193, 1.0704793 , 0.56875677, 1.44702124])"
      ]
     },
     "execution_count": 118,
     "metadata": {},
     "output_type": "execute_result"
    }
   ],
   "source": [
    "tab1"
   ]
  },
  {
   "cell_type": "code",
   "execution_count": 109,
   "id": "c069d2a2-8c88-4b61-9ec1-23f4ea9a2895",
   "metadata": {},
   "outputs": [],
   "source": [
    "tab2 = tab1\n",
    "tab2[0] = np.pi"
   ]
  },
  {
   "cell_type": "code",
   "execution_count": 112,
   "id": "165130eb-eae7-4294-ae0b-67886c2c2854",
   "metadata": {},
   "outputs": [
    {
     "data": {
      "text/plain": [
       "array([ True,  True,  True,  True,  True,  True,  True,  True,  True,\n",
       "        True])"
      ]
     },
     "execution_count": 112,
     "metadata": {},
     "output_type": "execute_result"
    }
   ],
   "source": [
    "# On teste si la modification a été prise en compte que dans tab 2\n",
    "tab2 == tab1"
   ]
  },
  {
   "cell_type": "code",
   "execution_count": 119,
   "id": "6b23a4e9-337f-4672-931e-003762cf2866",
   "metadata": {},
   "outputs": [],
   "source": [
    "## Il faut faire une copie afin que seul tab2 soit modifié et non tab1\n",
    "tab2 = tab1.copy()\n",
    "tab2[0] = np.pi"
   ]
  },
  {
   "cell_type": "code",
   "execution_count": 120,
   "id": "7e799630-79f2-40f3-9cb4-083ee4fd24b8",
   "metadata": {},
   "outputs": [
    {
     "data": {
      "text/plain": [
       "array([False,  True,  True,  True,  True,  True,  True,  True,  True,\n",
       "        True])"
      ]
     },
     "execution_count": 120,
     "metadata": {},
     "output_type": "execute_result"
    }
   ],
   "source": [
    "tab2 == tab1"
   ]
  },
  {
   "cell_type": "markdown",
   "id": "3361bf6e-dd83-40c2-9826-af4ec60b44c2",
   "metadata": {},
   "source": [
    "#### Changer la shape d'un tableau"
   ]
  },
  {
   "cell_type": "code",
   "execution_count": 127,
   "id": "e72b1ed9-8d34-42b5-a386-4ffd40117fd5",
   "metadata": {},
   "outputs": [],
   "source": [
    "tab_shape = np.arange(10)"
   ]
  },
  {
   "cell_type": "code",
   "execution_count": 129,
   "id": "5aaf7a76-6619-4c98-9c17-0e37ff7aba7a",
   "metadata": {},
   "outputs": [
    {
     "data": {
      "text/plain": [
       "array([0, 1, 2, 3, 4, 5, 6, 7, 8, 9])"
      ]
     },
     "execution_count": 129,
     "metadata": {},
     "output_type": "execute_result"
    }
   ],
   "source": [
    "tab_shape"
   ]
  },
  {
   "cell_type": "code",
   "execution_count": 128,
   "id": "ac47bcea-ccb3-48bc-856b-97030c81dd7d",
   "metadata": {},
   "outputs": [
    {
     "data": {
      "text/plain": [
       "array([[0, 1],\n",
       "       [2, 3],\n",
       "       [4, 5],\n",
       "       [6, 7],\n",
       "       [8, 9]])"
      ]
     },
     "execution_count": 128,
     "metadata": {},
     "output_type": "execute_result"
    }
   ],
   "source": [
    "tab_shape.reshape((5,2))"
   ]
  },
  {
   "cell_type": "code",
   "execution_count": 135,
   "id": "92ded2f3-0457-4508-9308-3f8fa0dca37c",
   "metadata": {},
   "outputs": [
    {
     "data": {
      "text/plain": [
       "array([[0, 1, 2, 3, 4, 5, 6, 7, 8, 9]])"
      ]
     },
     "execution_count": 135,
     "metadata": {},
     "output_type": "execute_result"
    }
   ],
   "source": [
    "tab_shape[np.newaxis, :]"
   ]
  },
  {
   "cell_type": "code",
   "execution_count": 132,
   "id": "0371a1f0-f7bf-4285-bc1b-68c8226cdaff",
   "metadata": {},
   "outputs": [
    {
     "data": {
      "text/plain": [
       "array([[0],\n",
       "       [1],\n",
       "       [2],\n",
       "       [3],\n",
       "       [4],\n",
       "       [5],\n",
       "       [6],\n",
       "       [7],\n",
       "       [8],\n",
       "       [9]])"
      ]
     },
     "execution_count": 132,
     "metadata": {},
     "output_type": "execute_result"
    }
   ],
   "source": [
    "tab_shape[:, np.newaxis]"
   ]
  },
  {
   "cell_type": "markdown",
   "id": "a358a35b-718d-4179-ab83-963e933b644f",
   "metadata": {},
   "source": [
    "#### Concaténation de tableaux numpy"
   ]
  },
  {
   "cell_type": "code",
   "execution_count": 136,
   "id": "100b58db-d510-49aa-8cbb-7c7d2bbe2a5f",
   "metadata": {},
   "outputs": [],
   "source": [
    "tab1 = np.arange(3)\n",
    "tab2 = np.arange(5,9)"
   ]
  },
  {
   "cell_type": "code",
   "execution_count": 141,
   "id": "0ec523cf-d4f8-423c-a57e-12be36017709",
   "metadata": {},
   "outputs": [
    {
     "name": "stdout",
     "output_type": "stream",
     "text": [
      "tab1 : [0 1 2]\n",
      "tab2 : [5 6 7 8]\n"
     ]
    }
   ],
   "source": [
    "print('tab1 :', tab1)\n",
    "print('tab2 :', tab2)"
   ]
  },
  {
   "cell_type": "code",
   "execution_count": 139,
   "id": "1033b91c-0830-4940-a0ee-b6a8a186cffe",
   "metadata": {},
   "outputs": [],
   "source": [
    "tab_tot = np.concatenate([tab1, tab2])"
   ]
  },
  {
   "cell_type": "code",
   "execution_count": 140,
   "id": "cae7431b-01ef-4336-8c96-685de6bc7ccc",
   "metadata": {},
   "outputs": [
    {
     "data": {
      "text/plain": [
       "array([0, 1, 2, 5, 6, 7, 8])"
      ]
     },
     "execution_count": 140,
     "metadata": {},
     "output_type": "execute_result"
    }
   ],
   "source": [
    "tab_tot"
   ]
  },
  {
   "cell_type": "code",
   "execution_count": 170,
   "id": "a3fb91d8-8f9c-4d5d-b70a-2b5bce07b0b9",
   "metadata": {},
   "outputs": [],
   "source": [
    "t1 = np.array([0, 1, 2])\n",
    "t2 = np.random.uniform(1, 2, (2, 3))\n",
    "t3 = np.array([\n",
    "    [12],\n",
    "    [45]\n",
    "])"
   ]
  },
  {
   "cell_type": "code",
   "execution_count": 165,
   "id": "89d29c39-3005-45fc-b1c3-f370dff4fdd0",
   "metadata": {},
   "outputs": [
    {
     "data": {
      "text/plain": [
       "array([[0.        , 1.        , 2.        ],\n",
       "       [1.67656779, 1.62581099, 1.10771307],\n",
       "       [1.04541364, 1.39846543, 1.57446806]])"
      ]
     },
     "execution_count": 165,
     "metadata": {},
     "output_type": "execute_result"
    }
   ],
   "source": [
    "np.vstack([t1, t2])"
   ]
  },
  {
   "cell_type": "code",
   "execution_count": 172,
   "id": "97003aae-2b4a-4ba9-b018-15ff91247ec9",
   "metadata": {},
   "outputs": [
    {
     "data": {
      "text/plain": [
       "array([[ 1.73441504,  1.86227875,  1.12136846, 12.        ],\n",
       "       [ 1.15400101,  1.29670141,  1.22036758, 45.        ]])"
      ]
     },
     "execution_count": 172,
     "metadata": {},
     "output_type": "execute_result"
    }
   ],
   "source": [
    "np.hstack([t2, t3])"
   ]
  },
  {
   "cell_type": "code",
   "execution_count": 182,
   "id": "beebd67a-921a-44d0-8bd1-f2720638f183",
   "metadata": {},
   "outputs": [
    {
     "data": {
      "text/plain": [
       "array([[12, 12],\n",
       "       [45, 45]])"
      ]
     },
     "execution_count": 182,
     "metadata": {},
     "output_type": "execute_result"
    }
   ],
   "source": [
    "np.concatenate([t3,t3],axis=1)"
   ]
  },
  {
   "cell_type": "markdown",
   "id": "09dc57ad-cef8-4734-9bd0-65177c13a66d",
   "metadata": {},
   "source": [
    "#### Splitting"
   ]
  },
  {
   "cell_type": "code",
   "execution_count": 194,
   "id": "8cbf82ee-b787-4793-8378-91972ee407c6",
   "metadata": {},
   "outputs": [],
   "source": [
    "l1 = np.linspace(0,5,8)"
   ]
  },
  {
   "cell_type": "code",
   "execution_count": 217,
   "id": "b76fa0eb-f481-40a3-9323-2fcb608e35f9",
   "metadata": {},
   "outputs": [],
   "source": [
    "s1, s2, s3 = np.split(l1, [1, 3])"
   ]
  },
  {
   "cell_type": "code",
   "execution_count": 218,
   "id": "dff7e040-574b-4792-ac8e-f58f3891dc05",
   "metadata": {},
   "outputs": [
    {
     "name": "stdout",
     "output_type": "stream",
     "text": [
      "[0.] [0.71428571 1.42857143] [2.14285714 2.85714286 3.57142857 4.28571429 5.        ]\n"
     ]
    }
   ],
   "source": [
    "print(s1, s2, s3)"
   ]
  },
  {
   "cell_type": "code",
   "execution_count": 223,
   "id": "2f12193d-be93-4100-b076-a789e9396dab",
   "metadata": {},
   "outputs": [],
   "source": [
    "s1, s2 = np.hsplit(l1, [2])"
   ]
  },
  {
   "cell_type": "code",
   "execution_count": 226,
   "id": "e842df47-1863-4158-95a1-21f1e5de8c10",
   "metadata": {},
   "outputs": [
    {
     "name": "stdout",
     "output_type": "stream",
     "text": [
      "[0.         0.71428571] [1.42857143 2.14285714 2.85714286 3.57142857 4.28571429 5.        ]\n"
     ]
    }
   ],
   "source": [
    "print(s1, s2)"
   ]
  },
  {
   "cell_type": "code",
   "execution_count": null,
   "id": "3934939e-7fad-4975-812e-c6b24cf7571f",
   "metadata": {},
   "outputs": [],
   "source": []
  }
 ],
 "metadata": {
  "kernelspec": {
   "display_name": "Python 3",
   "language": "python",
   "name": "python3"
  },
  "language_info": {
   "codemirror_mode": {
    "name": "ipython",
    "version": 3
   },
   "file_extension": ".py",
   "mimetype": "text/x-python",
   "name": "python",
   "nbconvert_exporter": "python",
   "pygments_lexer": "ipython3",
   "version": "3.9.12"
  }
 },
 "nbformat": 4,
 "nbformat_minor": 5
}
